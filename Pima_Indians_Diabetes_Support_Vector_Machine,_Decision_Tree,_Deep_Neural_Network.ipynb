{
  "nbformat": 4,
  "nbformat_minor": 0,
  "metadata": {
    "colab": {
      "name": "Pima Indians Diabetes - Support Vector Machine, Decision Tree, Deep Neural Network.ipynb",
      "provenance": [],
      "collapsed_sections": [],
      "toc_visible": true
    },
    "kernelspec": {
      "name": "python3",
      "display_name": "Python 3"
    }
  },
  "cells": [
    {
      "cell_type": "markdown",
      "metadata": {
        "id": "ls2X90DvAQHY"
      },
      "source": [
        "# Pima Indians Diabetes"
      ]
    },
    {
      "cell_type": "markdown",
      "metadata": {
        "id": "YjaKP9RPVohO"
      },
      "source": [
        "**DATASET LINK** https://www.kaggle.com/uciml/pima-indians-diabetes-database"
      ]
    },
    {
      "cell_type": "markdown",
      "metadata": {
        "id": "aZHm7HOtAkn8"
      },
      "source": [
        "Dataset include health information of female patients (from 21 years old and above) in India.\n",
        "\n"
      ]
    },
    {
      "cell_type": "markdown",
      "metadata": {
        "id": "Crj6DPF0WAoJ"
      },
      "source": [
        "## Target\n",
        "\n",
        "The Target is to design Decision Tree, Support Vector Machine and Deep Neural Network to predict whether they would be diabetes or not based on their health information and compare their performance by metrics and Confusion Matrix."
      ]
    },
    {
      "cell_type": "markdown",
      "metadata": {
        "id": "hptkDRLaWAlK"
      },
      "source": [
        "## Features in the dataset\n",
        "\n",
        "Feature | Description\n",
        "--------|------------\n",
        "Pregnancies | Number of times pregnant\n",
        "Glucose | Plasma glucose concentration over 2 hours in an oral glucose tolerance test\n",
        "BloodPressure | Diastolic blood pressure (mm Hg)\n",
        "SkinThickness | Triceps skin fold thickness (mm)\n",
        "Insulin | 2-Hour serum insulin (mu U/ml)\n",
        "BMI | Body mass index (weight in kg/(height in m)2)\n",
        "DiabetesPedigreeFunction | Diabetes pedigree function (a function which scores likelihood of diabetes based on family history)\n",
        "Age | Age (years)\n",
        "**Outcome** | Label **0 if non-diabetic, 1 if diabetic**"
      ]
    },
    {
      "cell_type": "code",
      "metadata": {
        "id": "5YXVPQf6PrkF",
        "colab": {
          "base_uri": "https://localhost:8080/",
          "height": 34
        },
        "outputId": "fc020f4c-35f4-465c-de3e-3c477d5be5c9"
      },
      "source": [
        "from google.colab import drive\n",
        "drive.mount('/content/drive')"
      ],
      "execution_count": null,
      "outputs": [
        {
          "output_type": "stream",
          "text": [
            "Drive already mounted at /content/drive; to attempt to forcibly remount, call drive.mount(\"/content/drive\", force_remount=True).\n"
          ],
          "name": "stdout"
        }
      ]
    },
    {
      "cell_type": "code",
      "metadata": {
        "id": "FdFJ2j-fVgEA"
      },
      "source": [
        "from tensorflow.random import set_seed\n",
        "set_seed(1612)\n",
        "import numpy as np\n",
        "np.random.seed(1612)"
      ],
      "execution_count": null,
      "outputs": []
    },
    {
      "cell_type": "code",
      "metadata": {
        "id": "GIzp_u66C_gP"
      },
      "source": [
        "import warnings\n",
        "import sys\n",
        "import os\n",
        "import pandas as pd\n",
        "import matplotlib as mpl\n",
        "import matplotlib.pyplot as plt\n",
        "import seaborn as sns\n",
        "\n",
        "# Style for chart\n",
        "sns.set(style='white', context='notebook', palette='deep')\n",
        "warnings.filterwarnings('ignore')\n",
        "mpl.style.use('ggplot')\n",
        "sns.set_style('white')"
      ],
      "execution_count": null,
      "outputs": []
    },
    {
      "cell_type": "code",
      "metadata": {
        "id": "dsASUBU9hUNK"
      },
      "source": [
        "PATH = '/content/drive/My Drive/Colab Notebooks/Projects/Pima Indians Diabetes Database/diabetes.csv'\n",
        "\n",
        "df = pd.read_csv(PATH)"
      ],
      "execution_count": null,
      "outputs": []
    },
    {
      "cell_type": "markdown",
      "metadata": {
        "id": "RWr4F9z5jGMW"
      },
      "source": [
        "## Data Exploration"
      ]
    },
    {
      "cell_type": "markdown",
      "metadata": {
        "id": "8oqRqIycWleU"
      },
      "source": [
        "### Print out the 1st random 10 rows"
      ]
    },
    {
      "cell_type": "code",
      "metadata": {
        "id": "8HYi1-HwW7UH",
        "colab": {
          "base_uri": "https://localhost:8080/",
          "height": 343
        },
        "outputId": "4341e6f5-3d49-4890-bdb5-e26b2e94267e"
      },
      "source": [
        "df.sample(10) "
      ],
      "execution_count": null,
      "outputs": [
        {
          "output_type": "execute_result",
          "data": {
            "text/html": [
              "<div>\n",
              "<style scoped>\n",
              "    .dataframe tbody tr th:only-of-type {\n",
              "        vertical-align: middle;\n",
              "    }\n",
              "\n",
              "    .dataframe tbody tr th {\n",
              "        vertical-align: top;\n",
              "    }\n",
              "\n",
              "    .dataframe thead th {\n",
              "        text-align: right;\n",
              "    }\n",
              "</style>\n",
              "<table border=\"1\" class=\"dataframe\">\n",
              "  <thead>\n",
              "    <tr style=\"text-align: right;\">\n",
              "      <th></th>\n",
              "      <th>Pregnancies</th>\n",
              "      <th>Glucose</th>\n",
              "      <th>BloodPressure</th>\n",
              "      <th>SkinThickness</th>\n",
              "      <th>Insulin</th>\n",
              "      <th>BMI</th>\n",
              "      <th>DiabetesPedigreeFunction</th>\n",
              "      <th>Age</th>\n",
              "      <th>Outcome</th>\n",
              "    </tr>\n",
              "  </thead>\n",
              "  <tbody>\n",
              "    <tr>\n",
              "      <th>560</th>\n",
              "      <td>6</td>\n",
              "      <td>125</td>\n",
              "      <td>76</td>\n",
              "      <td>0</td>\n",
              "      <td>0</td>\n",
              "      <td>33.8</td>\n",
              "      <td>0.121</td>\n",
              "      <td>54</td>\n",
              "      <td>1</td>\n",
              "    </tr>\n",
              "    <tr>\n",
              "      <th>377</th>\n",
              "      <td>1</td>\n",
              "      <td>87</td>\n",
              "      <td>60</td>\n",
              "      <td>37</td>\n",
              "      <td>75</td>\n",
              "      <td>37.2</td>\n",
              "      <td>0.509</td>\n",
              "      <td>22</td>\n",
              "      <td>0</td>\n",
              "    </tr>\n",
              "    <tr>\n",
              "      <th>542</th>\n",
              "      <td>10</td>\n",
              "      <td>90</td>\n",
              "      <td>85</td>\n",
              "      <td>32</td>\n",
              "      <td>0</td>\n",
              "      <td>34.9</td>\n",
              "      <td>0.825</td>\n",
              "      <td>56</td>\n",
              "      <td>1</td>\n",
              "    </tr>\n",
              "    <tr>\n",
              "      <th>203</th>\n",
              "      <td>2</td>\n",
              "      <td>99</td>\n",
              "      <td>70</td>\n",
              "      <td>16</td>\n",
              "      <td>44</td>\n",
              "      <td>20.4</td>\n",
              "      <td>0.235</td>\n",
              "      <td>27</td>\n",
              "      <td>0</td>\n",
              "    </tr>\n",
              "    <tr>\n",
              "      <th>151</th>\n",
              "      <td>4</td>\n",
              "      <td>114</td>\n",
              "      <td>65</td>\n",
              "      <td>0</td>\n",
              "      <td>0</td>\n",
              "      <td>21.9</td>\n",
              "      <td>0.432</td>\n",
              "      <td>37</td>\n",
              "      <td>0</td>\n",
              "    </tr>\n",
              "    <tr>\n",
              "      <th>675</th>\n",
              "      <td>6</td>\n",
              "      <td>195</td>\n",
              "      <td>70</td>\n",
              "      <td>0</td>\n",
              "      <td>0</td>\n",
              "      <td>30.9</td>\n",
              "      <td>0.328</td>\n",
              "      <td>31</td>\n",
              "      <td>1</td>\n",
              "    </tr>\n",
              "    <tr>\n",
              "      <th>438</th>\n",
              "      <td>1</td>\n",
              "      <td>97</td>\n",
              "      <td>70</td>\n",
              "      <td>15</td>\n",
              "      <td>0</td>\n",
              "      <td>18.2</td>\n",
              "      <td>0.147</td>\n",
              "      <td>21</td>\n",
              "      <td>0</td>\n",
              "    </tr>\n",
              "    <tr>\n",
              "      <th>306</th>\n",
              "      <td>10</td>\n",
              "      <td>161</td>\n",
              "      <td>68</td>\n",
              "      <td>23</td>\n",
              "      <td>132</td>\n",
              "      <td>25.5</td>\n",
              "      <td>0.326</td>\n",
              "      <td>47</td>\n",
              "      <td>1</td>\n",
              "    </tr>\n",
              "    <tr>\n",
              "      <th>598</th>\n",
              "      <td>1</td>\n",
              "      <td>173</td>\n",
              "      <td>74</td>\n",
              "      <td>0</td>\n",
              "      <td>0</td>\n",
              "      <td>36.8</td>\n",
              "      <td>0.088</td>\n",
              "      <td>38</td>\n",
              "      <td>1</td>\n",
              "    </tr>\n",
              "    <tr>\n",
              "      <th>59</th>\n",
              "      <td>0</td>\n",
              "      <td>105</td>\n",
              "      <td>64</td>\n",
              "      <td>41</td>\n",
              "      <td>142</td>\n",
              "      <td>41.5</td>\n",
              "      <td>0.173</td>\n",
              "      <td>22</td>\n",
              "      <td>0</td>\n",
              "    </tr>\n",
              "  </tbody>\n",
              "</table>\n",
              "</div>"
            ],
            "text/plain": [
              "     Pregnancies  Glucose  ...  Age  Outcome\n",
              "560            6      125  ...   54        1\n",
              "377            1       87  ...   22        0\n",
              "542           10       90  ...   56        1\n",
              "203            2       99  ...   27        0\n",
              "151            4      114  ...   37        0\n",
              "675            6      195  ...   31        1\n",
              "438            1       97  ...   21        0\n",
              "306           10      161  ...   47        1\n",
              "598            1      173  ...   38        1\n",
              "59             0      105  ...   22        0\n",
              "\n",
              "[10 rows x 9 columns]"
            ]
          },
          "metadata": {
            "tags": []
          },
          "execution_count": 551
        }
      ]
    },
    {
      "cell_type": "markdown",
      "metadata": {
        "id": "lcfYdOnbWptu"
      },
      "source": [
        "### Print out the data's statistical information"
      ]
    },
    {
      "cell_type": "code",
      "metadata": {
        "id": "7ASHtchnL-NR",
        "colab": {
          "base_uri": "https://localhost:8080/",
          "height": 284
        },
        "outputId": "9e0509a4-235e-4ec2-a3a8-50c09f4d908f"
      },
      "source": [
        "df.describe() "
      ],
      "execution_count": null,
      "outputs": [
        {
          "output_type": "execute_result",
          "data": {
            "text/html": [
              "<div>\n",
              "<style scoped>\n",
              "    .dataframe tbody tr th:only-of-type {\n",
              "        vertical-align: middle;\n",
              "    }\n",
              "\n",
              "    .dataframe tbody tr th {\n",
              "        vertical-align: top;\n",
              "    }\n",
              "\n",
              "    .dataframe thead th {\n",
              "        text-align: right;\n",
              "    }\n",
              "</style>\n",
              "<table border=\"1\" class=\"dataframe\">\n",
              "  <thead>\n",
              "    <tr style=\"text-align: right;\">\n",
              "      <th></th>\n",
              "      <th>Pregnancies</th>\n",
              "      <th>Glucose</th>\n",
              "      <th>BloodPressure</th>\n",
              "      <th>SkinThickness</th>\n",
              "      <th>Insulin</th>\n",
              "      <th>BMI</th>\n",
              "      <th>DiabetesPedigreeFunction</th>\n",
              "      <th>Age</th>\n",
              "      <th>Outcome</th>\n",
              "    </tr>\n",
              "  </thead>\n",
              "  <tbody>\n",
              "    <tr>\n",
              "      <th>count</th>\n",
              "      <td>768.000000</td>\n",
              "      <td>768.000000</td>\n",
              "      <td>768.000000</td>\n",
              "      <td>768.000000</td>\n",
              "      <td>768.000000</td>\n",
              "      <td>768.000000</td>\n",
              "      <td>768.000000</td>\n",
              "      <td>768.000000</td>\n",
              "      <td>768.000000</td>\n",
              "    </tr>\n",
              "    <tr>\n",
              "      <th>mean</th>\n",
              "      <td>3.845052</td>\n",
              "      <td>120.894531</td>\n",
              "      <td>69.105469</td>\n",
              "      <td>20.536458</td>\n",
              "      <td>79.799479</td>\n",
              "      <td>31.992578</td>\n",
              "      <td>0.471876</td>\n",
              "      <td>33.240885</td>\n",
              "      <td>0.348958</td>\n",
              "    </tr>\n",
              "    <tr>\n",
              "      <th>std</th>\n",
              "      <td>3.369578</td>\n",
              "      <td>31.972618</td>\n",
              "      <td>19.355807</td>\n",
              "      <td>15.952218</td>\n",
              "      <td>115.244002</td>\n",
              "      <td>7.884160</td>\n",
              "      <td>0.331329</td>\n",
              "      <td>11.760232</td>\n",
              "      <td>0.476951</td>\n",
              "    </tr>\n",
              "    <tr>\n",
              "      <th>min</th>\n",
              "      <td>0.000000</td>\n",
              "      <td>0.000000</td>\n",
              "      <td>0.000000</td>\n",
              "      <td>0.000000</td>\n",
              "      <td>0.000000</td>\n",
              "      <td>0.000000</td>\n",
              "      <td>0.078000</td>\n",
              "      <td>21.000000</td>\n",
              "      <td>0.000000</td>\n",
              "    </tr>\n",
              "    <tr>\n",
              "      <th>25%</th>\n",
              "      <td>1.000000</td>\n",
              "      <td>99.000000</td>\n",
              "      <td>62.000000</td>\n",
              "      <td>0.000000</td>\n",
              "      <td>0.000000</td>\n",
              "      <td>27.300000</td>\n",
              "      <td>0.243750</td>\n",
              "      <td>24.000000</td>\n",
              "      <td>0.000000</td>\n",
              "    </tr>\n",
              "    <tr>\n",
              "      <th>50%</th>\n",
              "      <td>3.000000</td>\n",
              "      <td>117.000000</td>\n",
              "      <td>72.000000</td>\n",
              "      <td>23.000000</td>\n",
              "      <td>30.500000</td>\n",
              "      <td>32.000000</td>\n",
              "      <td>0.372500</td>\n",
              "      <td>29.000000</td>\n",
              "      <td>0.000000</td>\n",
              "    </tr>\n",
              "    <tr>\n",
              "      <th>75%</th>\n",
              "      <td>6.000000</td>\n",
              "      <td>140.250000</td>\n",
              "      <td>80.000000</td>\n",
              "      <td>32.000000</td>\n",
              "      <td>127.250000</td>\n",
              "      <td>36.600000</td>\n",
              "      <td>0.626250</td>\n",
              "      <td>41.000000</td>\n",
              "      <td>1.000000</td>\n",
              "    </tr>\n",
              "    <tr>\n",
              "      <th>max</th>\n",
              "      <td>17.000000</td>\n",
              "      <td>199.000000</td>\n",
              "      <td>122.000000</td>\n",
              "      <td>99.000000</td>\n",
              "      <td>846.000000</td>\n",
              "      <td>67.100000</td>\n",
              "      <td>2.420000</td>\n",
              "      <td>81.000000</td>\n",
              "      <td>1.000000</td>\n",
              "    </tr>\n",
              "  </tbody>\n",
              "</table>\n",
              "</div>"
            ],
            "text/plain": [
              "       Pregnancies     Glucose  ...         Age     Outcome\n",
              "count   768.000000  768.000000  ...  768.000000  768.000000\n",
              "mean      3.845052  120.894531  ...   33.240885    0.348958\n",
              "std       3.369578   31.972618  ...   11.760232    0.476951\n",
              "min       0.000000    0.000000  ...   21.000000    0.000000\n",
              "25%       1.000000   99.000000  ...   24.000000    0.000000\n",
              "50%       3.000000  117.000000  ...   29.000000    0.000000\n",
              "75%       6.000000  140.250000  ...   41.000000    1.000000\n",
              "max      17.000000  199.000000  ...   81.000000    1.000000\n",
              "\n",
              "[8 rows x 9 columns]"
            ]
          },
          "metadata": {
            "tags": []
          },
          "execution_count": 552
        }
      ]
    },
    {
      "cell_type": "markdown",
      "metadata": {
        "id": "r1L0F0QfWxR6"
      },
      "source": [
        "\n",
        "### Print out data type of features to know which feature's type is object\n"
      ]
    },
    {
      "cell_type": "code",
      "metadata": {
        "id": "kuv-U6D6MKRF",
        "colab": {
          "base_uri": "https://localhost:8080/",
          "height": 185
        },
        "outputId": "f2fdd246-b5eb-4d0f-98e1-cce39ba63227"
      },
      "source": [
        "df.dtypes"
      ],
      "execution_count": null,
      "outputs": [
        {
          "output_type": "execute_result",
          "data": {
            "text/plain": [
              "Pregnancies                   int64\n",
              "Glucose                       int64\n",
              "BloodPressure                 int64\n",
              "SkinThickness                 int64\n",
              "Insulin                       int64\n",
              "BMI                         float64\n",
              "DiabetesPedigreeFunction    float64\n",
              "Age                           int64\n",
              "Outcome                       int64\n",
              "dtype: object"
            ]
          },
          "metadata": {
            "tags": []
          },
          "execution_count": 553
        }
      ]
    },
    {
      "cell_type": "markdown",
      "metadata": {
        "id": "fFO4f7ZJWykp"
      },
      "source": [
        "### Check null (na or nan)"
      ]
    },
    {
      "cell_type": "code",
      "metadata": {
        "id": "3Ee0KUf5MaDr",
        "colab": {
          "base_uri": "https://localhost:8080/",
          "height": 402
        },
        "outputId": "32a94419-6bbf-4fb9-adb4-b3b51674fdb7"
      },
      "source": [
        "df.isnull()"
      ],
      "execution_count": null,
      "outputs": [
        {
          "output_type": "execute_result",
          "data": {
            "text/html": [
              "<div>\n",
              "<style scoped>\n",
              "    .dataframe tbody tr th:only-of-type {\n",
              "        vertical-align: middle;\n",
              "    }\n",
              "\n",
              "    .dataframe tbody tr th {\n",
              "        vertical-align: top;\n",
              "    }\n",
              "\n",
              "    .dataframe thead th {\n",
              "        text-align: right;\n",
              "    }\n",
              "</style>\n",
              "<table border=\"1\" class=\"dataframe\">\n",
              "  <thead>\n",
              "    <tr style=\"text-align: right;\">\n",
              "      <th></th>\n",
              "      <th>Pregnancies</th>\n",
              "      <th>Glucose</th>\n",
              "      <th>BloodPressure</th>\n",
              "      <th>SkinThickness</th>\n",
              "      <th>Insulin</th>\n",
              "      <th>BMI</th>\n",
              "      <th>DiabetesPedigreeFunction</th>\n",
              "      <th>Age</th>\n",
              "      <th>Outcome</th>\n",
              "    </tr>\n",
              "  </thead>\n",
              "  <tbody>\n",
              "    <tr>\n",
              "      <th>0</th>\n",
              "      <td>False</td>\n",
              "      <td>False</td>\n",
              "      <td>False</td>\n",
              "      <td>False</td>\n",
              "      <td>False</td>\n",
              "      <td>False</td>\n",
              "      <td>False</td>\n",
              "      <td>False</td>\n",
              "      <td>False</td>\n",
              "    </tr>\n",
              "    <tr>\n",
              "      <th>1</th>\n",
              "      <td>False</td>\n",
              "      <td>False</td>\n",
              "      <td>False</td>\n",
              "      <td>False</td>\n",
              "      <td>False</td>\n",
              "      <td>False</td>\n",
              "      <td>False</td>\n",
              "      <td>False</td>\n",
              "      <td>False</td>\n",
              "    </tr>\n",
              "    <tr>\n",
              "      <th>2</th>\n",
              "      <td>False</td>\n",
              "      <td>False</td>\n",
              "      <td>False</td>\n",
              "      <td>False</td>\n",
              "      <td>False</td>\n",
              "      <td>False</td>\n",
              "      <td>False</td>\n",
              "      <td>False</td>\n",
              "      <td>False</td>\n",
              "    </tr>\n",
              "    <tr>\n",
              "      <th>3</th>\n",
              "      <td>False</td>\n",
              "      <td>False</td>\n",
              "      <td>False</td>\n",
              "      <td>False</td>\n",
              "      <td>False</td>\n",
              "      <td>False</td>\n",
              "      <td>False</td>\n",
              "      <td>False</td>\n",
              "      <td>False</td>\n",
              "    </tr>\n",
              "    <tr>\n",
              "      <th>4</th>\n",
              "      <td>False</td>\n",
              "      <td>False</td>\n",
              "      <td>False</td>\n",
              "      <td>False</td>\n",
              "      <td>False</td>\n",
              "      <td>False</td>\n",
              "      <td>False</td>\n",
              "      <td>False</td>\n",
              "      <td>False</td>\n",
              "    </tr>\n",
              "    <tr>\n",
              "      <th>...</th>\n",
              "      <td>...</td>\n",
              "      <td>...</td>\n",
              "      <td>...</td>\n",
              "      <td>...</td>\n",
              "      <td>...</td>\n",
              "      <td>...</td>\n",
              "      <td>...</td>\n",
              "      <td>...</td>\n",
              "      <td>...</td>\n",
              "    </tr>\n",
              "    <tr>\n",
              "      <th>763</th>\n",
              "      <td>False</td>\n",
              "      <td>False</td>\n",
              "      <td>False</td>\n",
              "      <td>False</td>\n",
              "      <td>False</td>\n",
              "      <td>False</td>\n",
              "      <td>False</td>\n",
              "      <td>False</td>\n",
              "      <td>False</td>\n",
              "    </tr>\n",
              "    <tr>\n",
              "      <th>764</th>\n",
              "      <td>False</td>\n",
              "      <td>False</td>\n",
              "      <td>False</td>\n",
              "      <td>False</td>\n",
              "      <td>False</td>\n",
              "      <td>False</td>\n",
              "      <td>False</td>\n",
              "      <td>False</td>\n",
              "      <td>False</td>\n",
              "    </tr>\n",
              "    <tr>\n",
              "      <th>765</th>\n",
              "      <td>False</td>\n",
              "      <td>False</td>\n",
              "      <td>False</td>\n",
              "      <td>False</td>\n",
              "      <td>False</td>\n",
              "      <td>False</td>\n",
              "      <td>False</td>\n",
              "      <td>False</td>\n",
              "      <td>False</td>\n",
              "    </tr>\n",
              "    <tr>\n",
              "      <th>766</th>\n",
              "      <td>False</td>\n",
              "      <td>False</td>\n",
              "      <td>False</td>\n",
              "      <td>False</td>\n",
              "      <td>False</td>\n",
              "      <td>False</td>\n",
              "      <td>False</td>\n",
              "      <td>False</td>\n",
              "      <td>False</td>\n",
              "    </tr>\n",
              "    <tr>\n",
              "      <th>767</th>\n",
              "      <td>False</td>\n",
              "      <td>False</td>\n",
              "      <td>False</td>\n",
              "      <td>False</td>\n",
              "      <td>False</td>\n",
              "      <td>False</td>\n",
              "      <td>False</td>\n",
              "      <td>False</td>\n",
              "      <td>False</td>\n",
              "    </tr>\n",
              "  </tbody>\n",
              "</table>\n",
              "<p>768 rows × 9 columns</p>\n",
              "</div>"
            ],
            "text/plain": [
              "     Pregnancies  Glucose  ...    Age  Outcome\n",
              "0          False    False  ...  False    False\n",
              "1          False    False  ...  False    False\n",
              "2          False    False  ...  False    False\n",
              "3          False    False  ...  False    False\n",
              "4          False    False  ...  False    False\n",
              "..           ...      ...  ...    ...      ...\n",
              "763        False    False  ...  False    False\n",
              "764        False    False  ...  False    False\n",
              "765        False    False  ...  False    False\n",
              "766        False    False  ...  False    False\n",
              "767        False    False  ...  False    False\n",
              "\n",
              "[768 rows x 9 columns]"
            ]
          },
          "metadata": {
            "tags": []
          },
          "execution_count": 554
        }
      ]
    },
    {
      "cell_type": "markdown",
      "metadata": {
        "id": "ngk1sw1zXAdG"
      },
      "source": [
        "### Most of the data features have **continuous value**. The only 2 columns having **categorical value** are Pregnancies and Outcome.\n"
      ]
    },
    {
      "cell_type": "code",
      "metadata": {
        "id": "95WFG-mzMjut",
        "colab": {
          "base_uri": "https://localhost:8080/",
          "height": 185
        },
        "outputId": "7999629c-3312-4e95-d81c-c9bb709dda7d"
      },
      "source": [
        "df.isnull().sum()"
      ],
      "execution_count": null,
      "outputs": [
        {
          "output_type": "execute_result",
          "data": {
            "text/plain": [
              "Pregnancies                 0\n",
              "Glucose                     0\n",
              "BloodPressure               0\n",
              "SkinThickness               0\n",
              "Insulin                     0\n",
              "BMI                         0\n",
              "DiabetesPedigreeFunction    0\n",
              "Age                         0\n",
              "Outcome                     0\n",
              "dtype: int64"
            ]
          },
          "metadata": {
            "tags": []
          },
          "execution_count": 555
        }
      ]
    },
    {
      "cell_type": "markdown",
      "metadata": {
        "id": "5ximQ7dhXYL0"
      },
      "source": [
        "### Print out number of unique values of 2 columns: Pregnancies and Outcome"
      ]
    },
    {
      "cell_type": "code",
      "metadata": {
        "id": "P0qpFjzLMpEp",
        "colab": {
          "base_uri": "https://localhost:8080/",
          "height": 50
        },
        "outputId": "2cb9b6ad-db67-430b-9e69-377b3650fcdd"
      },
      "source": [
        "print('Pregnancies unique values: ', df.Pregnancies.unique())\n",
        "print('Outcome unique values: ', df.Outcome.unique())"
      ],
      "execution_count": null,
      "outputs": [
        {
          "output_type": "stream",
          "text": [
            "Pregnancies unique values:  [ 6  1  8  0  5  3 10  2  4  7  9 11 13 15 17 12 14]\n",
            "Outcome unique values:  [1 0]\n"
          ],
          "name": "stdout"
        }
      ]
    },
    {
      "cell_type": "markdown",
      "metadata": {
        "id": "zZXTL9MQlnGm"
      },
      "source": [
        "## Data Visualization"
      ]
    },
    {
      "cell_type": "markdown",
      "metadata": {
        "id": "XIgH1gmphPFM"
      },
      "source": [
        "### Count plot for Outcome, Pregnancy"
      ]
    },
    {
      "cell_type": "markdown",
      "metadata": {
        "id": "XAacVAleltZR"
      },
      "source": [
        "\n",
        "*   CountPlot to count labels 0, 1 in the column Outcome\n",
        "*   CountPlot to count times of Pregnancy\n",
        "*   Countplot to combine times of Pregnancy and Outcome"
      ]
    },
    {
      "cell_type": "code",
      "metadata": {
        "id": "EaPSUED2W75K",
        "colab": {
          "base_uri": "https://localhost:8080/",
          "height": 501
        },
        "outputId": "d52bfe11-6cfd-4cea-fe88-72ee11c0073c"
      },
      "source": [
        "plt.figure(figsize=(25,10))\n",
        "\n",
        "plt.subplot(1,3,1)\n",
        "sns.countplot(df.Outcome) \n",
        "plt.title('Count plot for Outcome by Label 0, 1')\n",
        "\n",
        "plt.subplot(1,3,2)\n",
        "sns.countplot(df.Pregnancies)\n",
        "plt.title('Count plot for Pregnancies')\n",
        "\n",
        "plt.subplot(1,3,3)\n",
        "sns.countplot(x=\"Outcome\", hue=\"Pregnancies\", data=df)\n",
        "plt.title('Outcome vs Pregnancies')\n",
        "\n",
        "# plt.subplot(2,3,4)\n",
        "# ax= sns.boxplot(parameter orient = 'h', data=df)\n",
        "# plt.show()"
      ],
      "execution_count": null,
      "outputs": [
        {
          "output_type": "execute_result",
          "data": {
            "text/plain": [
              "Text(0.5, 1.0, 'Outcome vs Pregnancies')"
            ]
          },
          "metadata": {
            "tags": []
          },
          "execution_count": 557
        },
        {
          "output_type": "display_data",
          "data": {
            "image/png": "[encoded data removed]",
            "text/plain": [
              "<Figure size 1800x720 with 3 Axes>"
            ]
          },
          "metadata": {
            "tags": []
          }
        }
      ]
    },
    {
      "cell_type": "markdown",
      "metadata": {
        "id": "ySPzMCcihWMT"
      },
      "source": [
        "### Boxplot"
      ]
    },
    {
      "cell_type": "markdown",
      "metadata": {
        "id": "vkt-lNhQhXud"
      },
      "source": [
        "*   BoxPlot for all features in the dataframe (Use parameter orient = 'h' to draw a horizontal boxplot)"
      ]
    },
    {
      "cell_type": "code",
      "metadata": {
        "id": "tbcJXYqPQQ55",
        "colab": {
          "base_uri": "https://localhost:8080/",
          "height": 941
        },
        "outputId": "a4e9cb4d-2a88-4a31-f03d-aaae573cb59e"
      },
      "source": [
        "# Method 1:\n",
        "plt.figure(figsize=(25,20))\n",
        "sns.set(style=\"whitegrid\")\n",
        "\n",
        "plt.subplot(3,3,1)\n",
        "ax = sns.boxplot(x=df[\"Pregnancies\"], orient='h')\n",
        "plt.title('Box plot for Pregnancies')\n",
        "\n",
        "plt.subplot(3,3,2)\n",
        "ax = sns.boxplot(x=df[\"Glucose\"], orient='h')\n",
        "plt.title('Box plot for Glucose')\n",
        "\n",
        "plt.subplot(3,3,3)\n",
        "ax = sns.boxplot(x=df[\"BloodPressure\"], orient='h')\n",
        "plt.title('Box plot for BloodPressure')\n",
        "\n",
        "plt.subplot(3,3,4)\n",
        "ax = sns.boxplot(x=df[\"SkinThickness\"], orient='h')\n",
        "plt.title('Box plot for SkinThickness')\n",
        "\n",
        "plt.subplot(3,3,5)\n",
        "ax = sns.boxplot(x=df[\"Insulin\"], orient='h')\n",
        "plt.title('Box plot for Insulin')\n",
        "\n",
        "plt.subplot(3,3,6)\n",
        "ax = sns.boxplot(x=df[\"BMI\"], orient='h')\n",
        "plt.title('Box plot for BMI')\n",
        "\n",
        "plt.subplot(3,3,7)\n",
        "ax = sns.boxplot(x=df[\"DiabetesPedigreeFunction\"], orient='h')\n",
        "plt.title('Box plot for DiabetesPedigreeFunction')\n",
        "\n",
        "plt.subplot(3,3,8)\n",
        "ax = sns.boxplot(x=df[\"Age\"], orient='h')\n",
        "plt.title('Box plot for Age')\n",
        "\n",
        "plt.subplot(3,3,9)\n",
        "ax = sns.boxplot(x=df[\"Outcome\"], orient='h')\n",
        "plt.title('Box plot for Outcome')"
      ],
      "execution_count": null,
      "outputs": [
        {
          "output_type": "execute_result",
          "data": {
            "text/plain": [
              "Text(0.5, 1.0, 'Box plot for Outcome')"
            ]
          },
          "metadata": {
            "tags": []
          },
          "execution_count": 558
        },
        {
          "output_type": "display_data",
          "data": {
            "image/png": "[encoded data removed]",
            "text/plain": [
              "<Figure size 1800x1440 with 9 Axes>"
            ]
          },
          "metadata": {
            "tags": []
          }
        }
      ]
    },
    {
      "cell_type": "code",
      "metadata": {
        "id": "HEz7fo19TmV6",
        "colab": {
          "base_uri": "https://localhost:8080/",
          "height": 815
        },
        "outputId": "51b480d1-35ac-452a-fe05-6ee143bbdd70"
      },
      "source": [
        "# Method 2:\n",
        "plt.figure(figsize=(25,20))\n",
        "sns.set(style=\"whitegrid\")\n",
        "ax = sns.boxplot(data=df, orient=\"h\", palette=\"Set2\")"
      ],
      "execution_count": null,
      "outputs": [
        {
          "output_type": "display_data",
          "data": {
            "image/png": "[encoded data removed]",
            "text/plain": [
              "<Figure size 1800x1440 with 1 Axes>"
            ]
          },
          "metadata": {
            "tags": []
          }
        }
      ]
    },
    {
      "cell_type": "markdown",
      "metadata": {
        "id": "kS0GMrMyhcl-"
      },
      "source": [
        "### Histogram"
      ]
    },
    {
      "cell_type": "markdown",
      "metadata": {
        "id": "XG7gvYrfhbIC"
      },
      "source": [
        "*   Histogram for all features in the dataframe"
      ]
    },
    {
      "cell_type": "code",
      "metadata": {
        "id": "y9G7EH98T0JZ",
        "colab": {
          "base_uri": "https://localhost:8080/",
          "height": 930
        },
        "outputId": "68f9e576-039e-4761-92f9-67687e592f33"
      },
      "source": [
        "df.hist(figsize=(25,20),bins=40)\n",
        "plt.figure()"
      ],
      "execution_count": null,
      "outputs": [
        {
          "output_type": "execute_result",
          "data": {
            "text/plain": [
              "<Figure size 432x288 with 0 Axes>"
            ]
          },
          "metadata": {
            "tags": []
          },
          "execution_count": 560
        },
        {
          "output_type": "display_data",
          "data": {
            "image/png": "[encoded data removed]",
            "text/plain": [
              "<Figure size 1800x1440 with 9 Axes>"
            ]
          },
          "metadata": {
            "tags": []
          }
        },
        {
          "output_type": "display_data",
          "data": {
            "text/plain": [
              "<Figure size 432x288 with 0 Axes>"
            ]
          },
          "metadata": {
            "tags": []
          }
        }
      ]
    },
    {
      "cell_type": "markdown",
      "metadata": {
        "id": "yOHoV_7Hhf51"
      },
      "source": [
        "### Heatmap"
      ]
    },
    {
      "cell_type": "markdown",
      "metadata": {
        "id": "yYNOiMbrhh2c"
      },
      "source": [
        "*   Heatmap for Correlation Matrix"
      ]
    },
    {
      "cell_type": "code",
      "metadata": {
        "id": "o2fQi-p0UaVv",
        "colab": {
          "base_uri": "https://localhost:8080/",
          "height": 745
        },
        "outputId": "6817b3c7-d255-4b96-da17-b21a6171a73a"
      },
      "source": [
        "plt.figure(figsize=(10,10))\n",
        "sns.heatmap(df.corr(), annot=True) # corr() only used for DataFrame\n",
        "plt.title('Corelation Matrix');"
      ],
      "execution_count": null,
      "outputs": [
        {
          "output_type": "display_data",
          "data": {
            "image/png": "[encoded data removed]",
            "text/plain": [
              "<Figure size 720x720 with 2 Axes>"
            ]
          },
          "metadata": {
            "tags": []
          }
        }
      ]
    },
    {
      "cell_type": "markdown",
      "metadata": {
        "id": "AFRitIvT-omu"
      },
      "source": [
        "## Data Preprocessing"
      ]
    },
    {
      "cell_type": "markdown",
      "metadata": {
        "id": "tVaL9YZuhmI2"
      },
      "source": [
        "### Observing the Histogram, there are many anamolies in the dataset.\n",
        "\n",
        "* The features **`Insulin, SkinTickness, BloodPressure, BMI, Glucose`** has many values equal to 0. In these features, value = 0 means that those data points are null (nan / na).\n",
        "\n",
        "So, I will replace these values by their median value.\n",
        "\n",
        "Replacing nan values can be done by choosing a Feature with a Categorical type and the highest Correlation, then caculating its Median of data points grouped by that Feature.\n",
        "\n",
        "However, in this dataset, most of the Features are Continuous types, so I will replace them by Medians of all columns.\n",
        "\n",
        "For example: I will use the Median valye of all values in BMI to replace its values = 0."
      ]
    },
    {
      "cell_type": "markdown",
      "metadata": {
        "id": "0UmH1ooLi9EC"
      },
      "source": [
        "### Replace null value of BMI by its median value"
      ]
    },
    {
      "cell_type": "code",
      "metadata": {
        "id": "HIlUJElW-xGA"
      },
      "source": [
        "# Calculate the median value for BMI\n",
        "median_bmi = df['BMI'].median()\n",
        "# Replace it in the BMI column of the\n",
        "# dataset where values are 0\n",
        "df['BMI'] = df['BMI'].replace(\n",
        "    to_replace=0, value=median_bmi)"
      ],
      "execution_count": null,
      "outputs": []
    },
    {
      "cell_type": "code",
      "metadata": {
        "id": "HjTeqcOyUybq",
        "colab": {
          "base_uri": "https://localhost:8080/",
          "height": 286
        },
        "outputId": "99e2fe63-0957-4265-f4ca-7ec15d44d959"
      },
      "source": [
        "df.info()"
      ],
      "execution_count": null,
      "outputs": [
        {
          "output_type": "stream",
          "text": [
            "<class 'pandas.core.frame.DataFrame'>\n",
            "RangeIndex: 768 entries, 0 to 767\n",
            "Data columns (total 9 columns):\n",
            " #   Column                    Non-Null Count  Dtype  \n",
            "---  ------                    --------------  -----  \n",
            " 0   Pregnancies               768 non-null    int64  \n",
            " 1   Glucose                   768 non-null    int64  \n",
            " 2   BloodPressure             768 non-null    int64  \n",
            " 3   SkinThickness             768 non-null    int64  \n",
            " 4   Insulin                   768 non-null    int64  \n",
            " 5   BMI                       768 non-null    float64\n",
            " 6   DiabetesPedigreeFunction  768 non-null    float64\n",
            " 7   Age                       768 non-null    int64  \n",
            " 8   Outcome                   768 non-null    int64  \n",
            "dtypes: float64(2), int64(7)\n",
            "memory usage: 54.1 KB\n"
          ],
          "name": "stdout"
        }
      ]
    },
    {
      "cell_type": "code",
      "metadata": {
        "id": "NPrsAu2_U1kc",
        "colab": {
          "base_uri": "https://localhost:8080/",
          "height": 34
        },
        "outputId": "cac1ca92-a2a1-420b-d33e-bda75244d372"
      },
      "source": [
        "print(df.shape)"
      ],
      "execution_count": null,
      "outputs": [
        {
          "output_type": "stream",
          "text": [
            "(768, 9)\n"
          ],
          "name": "stdout"
        }
      ]
    },
    {
      "cell_type": "markdown",
      "metadata": {
        "id": "qzj6FFgsDGn0"
      },
      "source": [
        "\n",
        "\n",
        "### Replace all value = 0 of other features **`Insulin, SkinThickness, BloodPressure, Glucose`**\n",
        "\n",
        "\n"
      ]
    },
    {
      "cell_type": "code",
      "metadata": {
        "id": "PFI7suFpVPFH",
        "colab": {
          "base_uri": "https://localhost:8080/",
          "height": 402
        },
        "outputId": "1dd6666f-0af1-4f7d-a3cb-1c652eca9404"
      },
      "source": [
        "df"
      ],
      "execution_count": null,
      "outputs": [
        {
          "output_type": "execute_result",
          "data": {
            "text/html": [
              "<div>\n",
              "<style scoped>\n",
              "    .dataframe tbody tr th:only-of-type {\n",
              "        vertical-align: middle;\n",
              "    }\n",
              "\n",
              "    .dataframe tbody tr th {\n",
              "        vertical-align: top;\n",
              "    }\n",
              "\n",
              "    .dataframe thead th {\n",
              "        text-align: right;\n",
              "    }\n",
              "</style>\n",
              "<table border=\"1\" class=\"dataframe\">\n",
              "  <thead>\n",
              "    <tr style=\"text-align: right;\">\n",
              "      <th></th>\n",
              "      <th>Pregnancies</th>\n",
              "      <th>Glucose</th>\n",
              "      <th>BloodPressure</th>\n",
              "      <th>SkinThickness</th>\n",
              "      <th>Insulin</th>\n",
              "      <th>BMI</th>\n",
              "      <th>DiabetesPedigreeFunction</th>\n",
              "      <th>Age</th>\n",
              "      <th>Outcome</th>\n",
              "    </tr>\n",
              "  </thead>\n",
              "  <tbody>\n",
              "    <tr>\n",
              "      <th>0</th>\n",
              "      <td>6</td>\n",
              "      <td>148</td>\n",
              "      <td>72</td>\n",
              "      <td>35</td>\n",
              "      <td>0</td>\n",
              "      <td>33.6</td>\n",
              "      <td>0.627</td>\n",
              "      <td>50</td>\n",
              "      <td>1</td>\n",
              "    </tr>\n",
              "    <tr>\n",
              "      <th>1</th>\n",
              "      <td>1</td>\n",
              "      <td>85</td>\n",
              "      <td>66</td>\n",
              "      <td>29</td>\n",
              "      <td>0</td>\n",
              "      <td>26.6</td>\n",
              "      <td>0.351</td>\n",
              "      <td>31</td>\n",
              "      <td>0</td>\n",
              "    </tr>\n",
              "    <tr>\n",
              "      <th>2</th>\n",
              "      <td>8</td>\n",
              "      <td>183</td>\n",
              "      <td>64</td>\n",
              "      <td>0</td>\n",
              "      <td>0</td>\n",
              "      <td>23.3</td>\n",
              "      <td>0.672</td>\n",
              "      <td>32</td>\n",
              "      <td>1</td>\n",
              "    </tr>\n",
              "    <tr>\n",
              "      <th>3</th>\n",
              "      <td>1</td>\n",
              "      <td>89</td>\n",
              "      <td>66</td>\n",
              "      <td>23</td>\n",
              "      <td>94</td>\n",
              "      <td>28.1</td>\n",
              "      <td>0.167</td>\n",
              "      <td>21</td>\n",
              "      <td>0</td>\n",
              "    </tr>\n",
              "    <tr>\n",
              "      <th>4</th>\n",
              "      <td>0</td>\n",
              "      <td>137</td>\n",
              "      <td>40</td>\n",
              "      <td>35</td>\n",
              "      <td>168</td>\n",
              "      <td>43.1</td>\n",
              "      <td>2.288</td>\n",
              "      <td>33</td>\n",
              "      <td>1</td>\n",
              "    </tr>\n",
              "    <tr>\n",
              "      <th>...</th>\n",
              "      <td>...</td>\n",
              "      <td>...</td>\n",
              "      <td>...</td>\n",
              "      <td>...</td>\n",
              "      <td>...</td>\n",
              "      <td>...</td>\n",
              "      <td>...</td>\n",
              "      <td>...</td>\n",
              "      <td>...</td>\n",
              "    </tr>\n",
              "    <tr>\n",
              "      <th>763</th>\n",
              "      <td>10</td>\n",
              "      <td>101</td>\n",
              "      <td>76</td>\n",
              "      <td>48</td>\n",
              "      <td>180</td>\n",
              "      <td>32.9</td>\n",
              "      <td>0.171</td>\n",
              "      <td>63</td>\n",
              "      <td>0</td>\n",
              "    </tr>\n",
              "    <tr>\n",
              "      <th>764</th>\n",
              "      <td>2</td>\n",
              "      <td>122</td>\n",
              "      <td>70</td>\n",
              "      <td>27</td>\n",
              "      <td>0</td>\n",
              "      <td>36.8</td>\n",
              "      <td>0.340</td>\n",
              "      <td>27</td>\n",
              "      <td>0</td>\n",
              "    </tr>\n",
              "    <tr>\n",
              "      <th>765</th>\n",
              "      <td>5</td>\n",
              "      <td>121</td>\n",
              "      <td>72</td>\n",
              "      <td>23</td>\n",
              "      <td>112</td>\n",
              "      <td>26.2</td>\n",
              "      <td>0.245</td>\n",
              "      <td>30</td>\n",
              "      <td>0</td>\n",
              "    </tr>\n",
              "    <tr>\n",
              "      <th>766</th>\n",
              "      <td>1</td>\n",
              "      <td>126</td>\n",
              "      <td>60</td>\n",
              "      <td>0</td>\n",
              "      <td>0</td>\n",
              "      <td>30.1</td>\n",
              "      <td>0.349</td>\n",
              "      <td>47</td>\n",
              "      <td>1</td>\n",
              "    </tr>\n",
              "    <tr>\n",
              "      <th>767</th>\n",
              "      <td>1</td>\n",
              "      <td>93</td>\n",
              "      <td>70</td>\n",
              "      <td>31</td>\n",
              "      <td>0</td>\n",
              "      <td>30.4</td>\n",
              "      <td>0.315</td>\n",
              "      <td>23</td>\n",
              "      <td>0</td>\n",
              "    </tr>\n",
              "  </tbody>\n",
              "</table>\n",
              "<p>768 rows × 9 columns</p>\n",
              "</div>"
            ],
            "text/plain": [
              "     Pregnancies  Glucose  ...  Age  Outcome\n",
              "0              6      148  ...   50        1\n",
              "1              1       85  ...   31        0\n",
              "2              8      183  ...   32        1\n",
              "3              1       89  ...   21        0\n",
              "4              0      137  ...   33        1\n",
              "..           ...      ...  ...  ...      ...\n",
              "763           10      101  ...   63        0\n",
              "764            2      122  ...   27        0\n",
              "765            5      121  ...   30        0\n",
              "766            1      126  ...   47        1\n",
              "767            1       93  ...   23        0\n",
              "\n",
              "[768 rows x 9 columns]"
            ]
          },
          "metadata": {
            "tags": []
          },
          "execution_count": 565
        }
      ]
    },
    {
      "cell_type": "code",
      "metadata": {
        "id": "3wo2dgZcWUla"
      },
      "source": [
        "median_insulin = df['Insulin'].median()\n",
        "df['Insulin'] = df['Insulin'].replace(\n",
        "    to_replace=0, value=median_insulin)"
      ],
      "execution_count": null,
      "outputs": []
    },
    {
      "cell_type": "code",
      "metadata": {
        "id": "VSUkEYzTWbd4"
      },
      "source": [
        "median_skinthickness = df['SkinThickness'].median()\n",
        "df['SkinThickness'] = df['SkinThickness'].replace(\n",
        "    to_replace=0, value=median_skinthickness)"
      ],
      "execution_count": null,
      "outputs": []
    },
    {
      "cell_type": "code",
      "metadata": {
        "id": "Pt5H579uWcDD"
      },
      "source": [
        "median_bloodpressure = df['BloodPressure'].median()\n",
        "df['BloodPressure'] = df['BloodPressure'].replace(\n",
        "    to_replace=0, value=median_bloodpressure)"
      ],
      "execution_count": null,
      "outputs": []
    },
    {
      "cell_type": "code",
      "metadata": {
        "id": "UY5pTvPbWdtI"
      },
      "source": [
        "median_glucose = df['Glucose'].median()\n",
        "df['Glucose'] = df['Glucose'].replace(\n",
        "    to_replace=0, value=median_glucose)"
      ],
      "execution_count": null,
      "outputs": []
    },
    {
      "cell_type": "code",
      "metadata": {
        "id": "LNbUSvwIWq-Y",
        "colab": {
          "base_uri": "https://localhost:8080/",
          "height": 402
        },
        "outputId": "2eea3566-3a07-4d9f-aa1e-48e5c63857b7"
      },
      "source": [
        "df"
      ],
      "execution_count": null,
      "outputs": [
        {
          "output_type": "execute_result",
          "data": {
            "text/html": [
              "<div>\n",
              "<style scoped>\n",
              "    .dataframe tbody tr th:only-of-type {\n",
              "        vertical-align: middle;\n",
              "    }\n",
              "\n",
              "    .dataframe tbody tr th {\n",
              "        vertical-align: top;\n",
              "    }\n",
              "\n",
              "    .dataframe thead th {\n",
              "        text-align: right;\n",
              "    }\n",
              "</style>\n",
              "<table border=\"1\" class=\"dataframe\">\n",
              "  <thead>\n",
              "    <tr style=\"text-align: right;\">\n",
              "      <th></th>\n",
              "      <th>Pregnancies</th>\n",
              "      <th>Glucose</th>\n",
              "      <th>BloodPressure</th>\n",
              "      <th>SkinThickness</th>\n",
              "      <th>Insulin</th>\n",
              "      <th>BMI</th>\n",
              "      <th>DiabetesPedigreeFunction</th>\n",
              "      <th>Age</th>\n",
              "      <th>Outcome</th>\n",
              "    </tr>\n",
              "  </thead>\n",
              "  <tbody>\n",
              "    <tr>\n",
              "      <th>0</th>\n",
              "      <td>6</td>\n",
              "      <td>148</td>\n",
              "      <td>72</td>\n",
              "      <td>35</td>\n",
              "      <td>30.5</td>\n",
              "      <td>33.6</td>\n",
              "      <td>0.627</td>\n",
              "      <td>50</td>\n",
              "      <td>1</td>\n",
              "    </tr>\n",
              "    <tr>\n",
              "      <th>1</th>\n",
              "      <td>1</td>\n",
              "      <td>85</td>\n",
              "      <td>66</td>\n",
              "      <td>29</td>\n",
              "      <td>30.5</td>\n",
              "      <td>26.6</td>\n",
              "      <td>0.351</td>\n",
              "      <td>31</td>\n",
              "      <td>0</td>\n",
              "    </tr>\n",
              "    <tr>\n",
              "      <th>2</th>\n",
              "      <td>8</td>\n",
              "      <td>183</td>\n",
              "      <td>64</td>\n",
              "      <td>23</td>\n",
              "      <td>30.5</td>\n",
              "      <td>23.3</td>\n",
              "      <td>0.672</td>\n",
              "      <td>32</td>\n",
              "      <td>1</td>\n",
              "    </tr>\n",
              "    <tr>\n",
              "      <th>3</th>\n",
              "      <td>1</td>\n",
              "      <td>89</td>\n",
              "      <td>66</td>\n",
              "      <td>23</td>\n",
              "      <td>94.0</td>\n",
              "      <td>28.1</td>\n",
              "      <td>0.167</td>\n",
              "      <td>21</td>\n",
              "      <td>0</td>\n",
              "    </tr>\n",
              "    <tr>\n",
              "      <th>4</th>\n",
              "      <td>0</td>\n",
              "      <td>137</td>\n",
              "      <td>40</td>\n",
              "      <td>35</td>\n",
              "      <td>168.0</td>\n",
              "      <td>43.1</td>\n",
              "      <td>2.288</td>\n",
              "      <td>33</td>\n",
              "      <td>1</td>\n",
              "    </tr>\n",
              "    <tr>\n",
              "      <th>...</th>\n",
              "      <td>...</td>\n",
              "      <td>...</td>\n",
              "      <td>...</td>\n",
              "      <td>...</td>\n",
              "      <td>...</td>\n",
              "      <td>...</td>\n",
              "      <td>...</td>\n",
              "      <td>...</td>\n",
              "      <td>...</td>\n",
              "    </tr>\n",
              "    <tr>\n",
              "      <th>763</th>\n",
              "      <td>10</td>\n",
              "      <td>101</td>\n",
              "      <td>76</td>\n",
              "      <td>48</td>\n",
              "      <td>180.0</td>\n",
              "      <td>32.9</td>\n",
              "      <td>0.171</td>\n",
              "      <td>63</td>\n",
              "      <td>0</td>\n",
              "    </tr>\n",
              "    <tr>\n",
              "      <th>764</th>\n",
              "      <td>2</td>\n",
              "      <td>122</td>\n",
              "      <td>70</td>\n",
              "      <td>27</td>\n",
              "      <td>30.5</td>\n",
              "      <td>36.8</td>\n",
              "      <td>0.340</td>\n",
              "      <td>27</td>\n",
              "      <td>0</td>\n",
              "    </tr>\n",
              "    <tr>\n",
              "      <th>765</th>\n",
              "      <td>5</td>\n",
              "      <td>121</td>\n",
              "      <td>72</td>\n",
              "      <td>23</td>\n",
              "      <td>112.0</td>\n",
              "      <td>26.2</td>\n",
              "      <td>0.245</td>\n",
              "      <td>30</td>\n",
              "      <td>0</td>\n",
              "    </tr>\n",
              "    <tr>\n",
              "      <th>766</th>\n",
              "      <td>1</td>\n",
              "      <td>126</td>\n",
              "      <td>60</td>\n",
              "      <td>23</td>\n",
              "      <td>30.5</td>\n",
              "      <td>30.1</td>\n",
              "      <td>0.349</td>\n",
              "      <td>47</td>\n",
              "      <td>1</td>\n",
              "    </tr>\n",
              "    <tr>\n",
              "      <th>767</th>\n",
              "      <td>1</td>\n",
              "      <td>93</td>\n",
              "      <td>70</td>\n",
              "      <td>31</td>\n",
              "      <td>30.5</td>\n",
              "      <td>30.4</td>\n",
              "      <td>0.315</td>\n",
              "      <td>23</td>\n",
              "      <td>0</td>\n",
              "    </tr>\n",
              "  </tbody>\n",
              "</table>\n",
              "<p>768 rows × 9 columns</p>\n",
              "</div>"
            ],
            "text/plain": [
              "     Pregnancies  Glucose  ...  Age  Outcome\n",
              "0              6      148  ...   50        1\n",
              "1              1       85  ...   31        0\n",
              "2              8      183  ...   32        1\n",
              "3              1       89  ...   21        0\n",
              "4              0      137  ...   33        1\n",
              "..           ...      ...  ...  ...      ...\n",
              "763           10      101  ...   63        0\n",
              "764            2      122  ...   27        0\n",
              "765            5      121  ...   30        0\n",
              "766            1      126  ...   47        1\n",
              "767            1       93  ...   23        0\n",
              "\n",
              "[768 rows x 9 columns]"
            ]
          },
          "metadata": {
            "tags": []
          },
          "execution_count": 571
        }
      ]
    },
    {
      "cell_type": "markdown",
      "metadata": {
        "id": "iIpp9ZNCjChI"
      },
      "source": [
        "### Draw a Boxplot again after the replacement to see any changes"
      ]
    },
    {
      "cell_type": "code",
      "metadata": {
        "id": "EBAUsPyrDhnJ",
        "colab": {
          "base_uri": "https://localhost:8080/",
          "height": 534
        },
        "outputId": "95575bfd-677d-4101-b9d0-e0c035fc9b0c"
      },
      "source": [
        "plt.figure(figsize=(20,10))\n",
        "sns.boxplot(data=df,orient = 'h',)"
      ],
      "execution_count": null,
      "outputs": [
        {
          "output_type": "execute_result",
          "data": {
            "text/plain": [
              "<matplotlib.axes._subplots.AxesSubplot at 0x7f6174e98f60>"
            ]
          },
          "metadata": {
            "tags": []
          },
          "execution_count": 572
        },
        {
          "output_type": "display_data",
          "data": {
            "image/png": "[encoded data removed]",
            "text/plain": [
              "<Figure size 1440x720 with 1 Axes>"
            ]
          },
          "metadata": {
            "tags": []
          }
        }
      ]
    },
    {
      "cell_type": "markdown",
      "metadata": {
        "id": "8x8rZLyMjWP9"
      },
      "source": [
        "### Conclusion for Insulin\n",
        "\n",
        "1. Insulin has no low-outlier values.\n",
        "\n",
        "2. Values greater than 273 are outliers."
      ]
    },
    {
      "cell_type": "markdown",
      "metadata": {
        "id": "Y5Fi3k0PjNnV"
      },
      "source": [
        "### Calculate q1, q3, min, max of Insulin"
      ]
    },
    {
      "cell_type": "code",
      "metadata": {
        "id": "kaXHoZeGEIJa",
        "colab": {
          "base_uri": "https://localhost:8080/",
          "height": 34
        },
        "outputId": "344ddc93-bda2-41ef-e4d3-04eee3d08027"
      },
      "source": [
        "q1_insulin = np.quantile(df['Insulin'], 0.25, interpolation='midpoint')\n",
        "q3_insulin = np.quantile(df['Insulin'], 0.75, interpolation='midpoint')\n",
        "iqr_insulin = q3_insulin - q1_insulin\n",
        "max_insulin = q3_insulin + 1.5 * iqr_insulin\n",
        "min_insulin = q1_insulin - 1.5 * iqr_insulin\n",
        "min_insulin, max_insulin"
      ],
      "execution_count": null,
      "outputs": [
        {
          "output_type": "execute_result",
          "data": {
            "text/plain": [
              "(-115.0, 273.0)"
            ]
          },
          "metadata": {
            "tags": []
          },
          "execution_count": 573
        }
      ]
    },
    {
      "cell_type": "markdown",
      "metadata": {
        "id": "5pd2UYPOFJNo"
      },
      "source": [
        "### Calculate q1, q3, min, max of other features (except Outcome) and Conclude about their outliers"
      ]
    },
    {
      "cell_type": "markdown",
      "metadata": {
        "id": "JWdaouuoXO0u"
      },
      "source": [
        "Glucose has no low-outlier or high-outlier."
      ]
    },
    {
      "cell_type": "code",
      "metadata": {
        "id": "YI288shoXJ_y",
        "colab": {
          "base_uri": "https://localhost:8080/",
          "height": 34
        },
        "outputId": "78fbc538-edc3-4584-b5e0-77e981988077"
      },
      "source": [
        "q1_glucose = np.quantile(df['Glucose'], 0.25, interpolation='midpoint')\n",
        "q3_glucose = np.quantile(df['Glucose'], 0.75, interpolation='midpoint')\n",
        "iqr_glucose = q3_glucose - q1_glucose\n",
        "max_glucose = q3_glucose + 1.5 * iqr_glucose\n",
        "min_glucose = q1_glucose - 1.5 * iqr_glucose\n",
        "min_glucose, max_glucose"
      ],
      "execution_count": null,
      "outputs": [
        {
          "output_type": "execute_result",
          "data": {
            "text/plain": [
              "(38.0, 202.0)"
            ]
          },
          "metadata": {
            "tags": []
          },
          "execution_count": 574
        }
      ]
    },
    {
      "cell_type": "markdown",
      "metadata": {
        "id": "nxAbn3xnXYI7"
      },
      "source": [
        "Pregnancies has no low-outlier. Values greater than 13.5 are outliers."
      ]
    },
    {
      "cell_type": "code",
      "metadata": {
        "id": "BKO6hqv_XYO7",
        "colab": {
          "base_uri": "https://localhost:8080/",
          "height": 34
        },
        "outputId": "5ec814fa-8a39-4b4e-bb48-e18d13d85e59"
      },
      "source": [
        "q1_pregnancies = np.quantile(df['Pregnancies'], 0.25, interpolation='midpoint')\n",
        "q3_pregnancies = np.quantile(df['Pregnancies'], 0.75, interpolation='midpoint')\n",
        "iqr_pregnancies = q3_pregnancies - q1_pregnancies\n",
        "max_pregnancies = q3_pregnancies + 1.5 * iqr_pregnancies\n",
        "min_pregnancies = q1_pregnancies - 1.5 * iqr_pregnancies\n",
        "min_pregnancies, max_pregnancies"
      ],
      "execution_count": null,
      "outputs": [
        {
          "output_type": "execute_result",
          "data": {
            "text/plain": [
              "(-6.5, 13.5)"
            ]
          },
          "metadata": {
            "tags": []
          },
          "execution_count": 575
        }
      ]
    },
    {
      "cell_type": "markdown",
      "metadata": {
        "id": "Tu0Oi7VZXsJp"
      },
      "source": [
        "BloodPressure's values less than 40.0 and greater than 104.0 are outliers."
      ]
    },
    {
      "cell_type": "code",
      "metadata": {
        "id": "XAkWyylCXsO_",
        "colab": {
          "base_uri": "https://localhost:8080/",
          "height": 34
        },
        "outputId": "4e23bced-f4b9-4962-9d86-6358eec07898"
      },
      "source": [
        "q1_bloodpressure = np.quantile(df['BloodPressure'], 0.25, interpolation='midpoint')\n",
        "q3_bloodpressure = np.quantile(df['BloodPressure'], 0.75, interpolation='midpoint')\n",
        "iqr_bloodpressure = q3_bloodpressure - q1_bloodpressure\n",
        "max_bloodpressure = q3_bloodpressure + 1.5 * iqr_bloodpressure\n",
        "min_bloodpressure = q1_bloodpressure - 1.5 * iqr_bloodpressure\n",
        "min_bloodpressure, max_bloodpressure"
      ],
      "execution_count": null,
      "outputs": [
        {
          "output_type": "execute_result",
          "data": {
            "text/plain": [
              "(40.0, 104.0)"
            ]
          },
          "metadata": {
            "tags": []
          },
          "execution_count": 576
        }
      ]
    },
    {
      "cell_type": "markdown",
      "metadata": {
        "id": "T9N7eUETYYX5"
      },
      "source": [
        "SkinThickness's values less than 9.5 and greater than 45.5 are outliers."
      ]
    },
    {
      "cell_type": "code",
      "metadata": {
        "id": "RqNX4XxrYUl-",
        "colab": {
          "base_uri": "https://localhost:8080/",
          "height": 34
        },
        "outputId": "f29fc8f9-847e-4d7c-f01a-bf0fc04531d8"
      },
      "source": [
        "q1_skinthickness = np.quantile(df['SkinThickness'], 0.25, interpolation='midpoint')\n",
        "q3_skinthickness = np.quantile(df['SkinThickness'], 0.75, interpolation='midpoint')\n",
        "iqr_skinthickness = q3_skinthickness - q1_skinthickness\n",
        "max_skinthickness = q3_skinthickness + 1.5 * iqr_skinthickness\n",
        "min_skinthickness = q1_skinthickness - 1.5 * iqr_skinthickness\n",
        "min_skinthickness, max_skinthickness"
      ],
      "execution_count": null,
      "outputs": [
        {
          "output_type": "execute_result",
          "data": {
            "text/plain": [
              "(9.5, 45.5)"
            ]
          },
          "metadata": {
            "tags": []
          },
          "execution_count": 577
        }
      ]
    },
    {
      "cell_type": "markdown",
      "metadata": {
        "id": "QSnK6knqYuh7"
      },
      "source": [
        "BMI has no low-outlier. Values greater than 50.25 are outliers."
      ]
    },
    {
      "cell_type": "code",
      "metadata": {
        "id": "3xkyGHOXYU2k",
        "colab": {
          "base_uri": "https://localhost:8080/",
          "height": 34
        },
        "outputId": "7f6cbd49-f6a0-443c-b134-020bf5d872ae"
      },
      "source": [
        "q1_bmi = np.quantile(df['BMI'], 0.25, interpolation='midpoint')\n",
        "q3_bmi = np.quantile(df['BMI'], 0.75, interpolation='midpoint')\n",
        "iqr_bmi = q3_bmi - q1_bmi\n",
        "max_bmi = q3_bmi + 1.5 * iqr_bmi\n",
        "min_bmi = q1_bmi - 1.5 * iqr_bmi\n",
        "min_bmi, max_bmi"
      ],
      "execution_count": null,
      "outputs": [
        {
          "output_type": "execute_result",
          "data": {
            "text/plain": [
              "(13.849999999999998, 50.25)"
            ]
          },
          "metadata": {
            "tags": []
          },
          "execution_count": 578
        }
      ]
    },
    {
      "cell_type": "markdown",
      "metadata": {
        "id": "A_g-LlJKZcLk"
      },
      "source": [
        "DiabetesPedigreeFunction has no low-outlier. Values greater than 1.201 are outliers."
      ]
    },
    {
      "cell_type": "code",
      "metadata": {
        "id": "cDBZO4eJYXmT",
        "colab": {
          "base_uri": "https://localhost:8080/",
          "height": 34
        },
        "outputId": "3d574a1f-1773-4a1c-9b24-7a992716f1e2"
      },
      "source": [
        "q1_dpf = np.quantile(df['DiabetesPedigreeFunction'], 0.25, interpolation='midpoint')\n",
        "q3_dpf = np.quantile(df['DiabetesPedigreeFunction'], 0.75, interpolation='midpoint')\n",
        "iqr_dpf = q3_dpf - q1_dpf\n",
        "max_dpf = q3_dpf + 1.5 * iqr_dpf\n",
        "min_dpf = q1_dpf - 1.5 * iqr_dpf\n",
        "min_dpf, max_dpf"
      ],
      "execution_count": null,
      "outputs": [
        {
          "output_type": "execute_result",
          "data": {
            "text/plain": [
              "(-0.3310000000000001, 1.201)"
            ]
          },
          "metadata": {
            "tags": []
          },
          "execution_count": 579
        }
      ]
    },
    {
      "cell_type": "markdown",
      "metadata": {
        "id": "-SqzFCqPZpQW"
      },
      "source": [
        "Age has no low-outlier. Value greater than 66.5 are outliers."
      ]
    },
    {
      "cell_type": "code",
      "metadata": {
        "id": "ON19WrXwYX3A",
        "colab": {
          "base_uri": "https://localhost:8080/",
          "height": 34
        },
        "outputId": "6e431635-888d-4cf2-b543-955b5720fecd"
      },
      "source": [
        "q1_age = np.quantile(df['Age'], 0.25, interpolation='midpoint')\n",
        "q3_age = np.quantile(df['Age'], 0.75, interpolation='midpoint')\n",
        "iqr_age = q3_age - q1_age\n",
        "max_age = q3_age + 1.5 * iqr_age\n",
        "min_age = q1_age - 1.5 * iqr_age\n",
        "min_age, max_age"
      ],
      "execution_count": null,
      "outputs": [
        {
          "output_type": "execute_result",
          "data": {
            "text/plain": [
              "(-1.5, 66.5)"
            ]
          },
          "metadata": {
            "tags": []
          },
          "execution_count": 580
        }
      ]
    },
    {
      "cell_type": "markdown",
      "metadata": {
        "id": "rJNqgr_3S3E7"
      },
      "source": [
        "## Feature Scaling & Prepare Dataset"
      ]
    },
    {
      "cell_type": "markdown",
      "metadata": {
        "id": "ESMYVVW3TFzd"
      },
      "source": [
        "* Split data into Train and Test Set\n",
        "  * Test size = 0.3, randomstate = 1612, stratify = y\n",
        "* Apply StandardScaler"
      ]
    },
    {
      "cell_type": "code",
      "metadata": {
        "id": "HNNSRn97Z_CD"
      },
      "source": [
        "y = df.Outcome\n",
        "df = df.drop(columns=['Outcome'])"
      ],
      "execution_count": null,
      "outputs": []
    },
    {
      "cell_type": "code",
      "metadata": {
        "id": "8P5FtUVGZvLZ",
        "colab": {
          "base_uri": "https://localhost:8080/",
          "height": 84
        },
        "outputId": "67c68332-0ade-4222-a4d0-05cb127af6f4"
      },
      "source": [
        "from sklearn.model_selection import train_test_split\n",
        "X_train, X_test, y_train, y_test = train_test_split(df, y, test_size=0.3, stratify=y, shuffle=True, random_state=1612)   \n",
        "print('Shape of X train', X_train.shape)\n",
        "print('Shape of y train', y_train.shape)\n",
        "print('Shape of X test', X_test.shape)\n",
        "print('Shape of y test', y_test.shape)"
      ],
      "execution_count": null,
      "outputs": [
        {
          "output_type": "stream",
          "text": [
            "Shape of X train (537, 8)\n",
            "Shape of y train (537,)\n",
            "Shape of X test (231, 8)\n",
            "Shape of y test (231,)\n"
          ],
          "name": "stdout"
        }
      ]
    },
    {
      "cell_type": "code",
      "metadata": {
        "id": "CblB53fXaafC"
      },
      "source": [
        "from sklearn.preprocessing import StandardScaler\n",
        "\n",
        "scaler = StandardScaler()\n",
        "X_train_scale = scaler.fit_transform(X_train)\n",
        "X_test_scale = scaler.transform(X_test)"
      ],
      "execution_count": null,
      "outputs": []
    },
    {
      "cell_type": "markdown",
      "metadata": {
        "id": "J6sywsu2S-2E"
      },
      "source": [
        "## Train and Evaluate Classification Model"
      ]
    },
    {
      "cell_type": "markdown",
      "metadata": {
        "id": "ZtwF16gNoGRA"
      },
      "source": [
        "* Use SkLearn to create and train models: Support Vector Machine & Decision Tree\n",
        "\n",
        "* Use Keras to create and train a model of Deep Neural Network\n",
        "\n",
        "* After training, I will evaluate model performance by accuracy on 2 sets: Train and Test\n",
        "\n",
        "* Draw Heat map - Confusion Matrix for each model\n",
        "\n",
        "* Conclude which is the best model and why so"
      ]
    },
    {
      "cell_type": "markdown",
      "metadata": {
        "id": "NZqY0wAIbDLW"
      },
      "source": [
        "### Support Vector Machine"
      ]
    },
    {
      "cell_type": "markdown",
      "metadata": {
        "id": "ryFbtvDIoqEd"
      },
      "source": [
        "#### Hyper-parameters"
      ]
    },
    {
      "cell_type": "code",
      "metadata": {
        "id": "szxz2e8nVdyp"
      },
      "source": [
        "C_values = [0.01, 0.1, 1] # from 0.01 to 1\n",
        "gamma_values = [0.01, 0.1, 1]\n",
        "kernel_values = ['linear', 'poly', 'rbf']\n",
        "\n",
        "param_grid = {\n",
        "    'kernel': kernel_values,\n",
        "    'C': C_values,\n",
        "    'gamma': gamma_values\n",
        "}"
      ],
      "execution_count": null,
      "outputs": []
    },
    {
      "cell_type": "markdown",
      "metadata": {
        "id": "zN384NRJotZl"
      },
      "source": [
        "#### GridSearch"
      ]
    },
    {
      "cell_type": "code",
      "metadata": {
        "id": "enLh0WSQa3as"
      },
      "source": [
        "from sklearn.svm import SVC\n",
        "from sklearn.model_selection import GridSearchCV\n",
        "\n",
        "model = SVC(random_state=1612)\n",
        "grid = GridSearchCV(model, param_grid, cv=2)\n",
        "grid.fit(X_train_scale, y_train)\n",
        "\n",
        "svc = grid.best_estimator_"
      ],
      "execution_count": null,
      "outputs": []
    },
    {
      "cell_type": "markdown",
      "metadata": {
        "id": "xSyEAN89oxPn"
      },
      "source": [
        "#### Metric scores"
      ]
    },
    {
      "cell_type": "code",
      "metadata": {
        "id": "KXUgU9hba3ft",
        "colab": {
          "base_uri": "https://localhost:8080/",
          "height": 50
        },
        "outputId": "976bf778-1ff4-4979-8b56-0d3840c0ad36"
      },
      "source": [
        "print('Accuracy score on Train Set:', str(svc.score(X_train_scale, y_train)))\n",
        "print('Accuracy score on Test Set:', str(svc.score(X_test_scale, y_test)))"
      ],
      "execution_count": null,
      "outputs": [
        {
          "output_type": "stream",
          "text": [
            "Accuracy score on Train Set: 0.776536312849162\n",
            "Accuracy score on Test Set: 0.7792207792207793\n"
          ],
          "name": "stdout"
        }
      ]
    },
    {
      "cell_type": "markdown",
      "metadata": {
        "id": "WNemLm0Hoy41"
      },
      "source": [
        "#### Confusion Matrix"
      ]
    },
    {
      "cell_type": "code",
      "metadata": {
        "id": "2REbiCSwbGD9",
        "colab": {
          "base_uri": "https://localhost:8080/",
          "height": 502
        },
        "outputId": "2923c230-72b5-42e7-924e-525db7296bb1"
      },
      "source": [
        "from sklearn.metrics import confusion_matrix\n",
        "import seaborn as sns\n",
        "sns.set()\n",
        "y_pred = svc.predict(X_test_scale)\n",
        "cm = confusion_matrix(y_test, y_pred)\n",
        "\n",
        "plt.figure(figsize=(8,8))\n",
        "sns.heatmap(cm, annot=True, \n",
        "            cmap='Blues', fmt='.1f')"
      ],
      "execution_count": null,
      "outputs": [
        {
          "output_type": "execute_result",
          "data": {
            "text/plain": [
              "<matplotlib.axes._subplots.AxesSubplot at 0x7f6172dc7358>"
            ]
          },
          "metadata": {
            "tags": []
          },
          "execution_count": 587
        },
        {
          "output_type": "display_data",
          "data": {
            "image/png": "[encoded data removed]",
            "text/plain": [
              "<Figure size 576x576 with 2 Axes>"
            ]
          },
          "metadata": {
            "tags": []
          }
        }
      ]
    },
    {
      "cell_type": "markdown",
      "metadata": {
        "id": "YS_40FKjcXyN"
      },
      "source": [
        "### Decision Tree"
      ]
    },
    {
      "cell_type": "markdown",
      "metadata": {
        "id": "M20T8Eejo15D"
      },
      "source": [
        "#### Hyper-parameters"
      ]
    },
    {
      "cell_type": "code",
      "metadata": {
        "id": "ClleI1tza3kN",
        "colab": {
          "base_uri": "https://localhost:8080/",
          "height": 118
        },
        "outputId": "6ee0b7ba-8a57-452b-9ee8-b7c4b140bb88"
      },
      "source": [
        "params = {\n",
        "    'criterion': ['entropy','gini'],\n",
        "    'max_depth': [3,5,7],\n",
        "    'min_samples_split': np.linspace(0.1, 1.0, 10), \n",
        "    'max_features':  ['auto', 'log2']\n",
        "}\n",
        "from sklearn.tree import DecisionTreeClassifier\n",
        "\n",
        "decision_tree = DecisionTreeClassifier(random_state=1612)\n",
        "decision_tree.fit(X_train_scale, y_train)"
      ],
      "execution_count": null,
      "outputs": [
        {
          "output_type": "execute_result",
          "data": {
            "text/plain": [
              "DecisionTreeClassifier(ccp_alpha=0.0, class_weight=None, criterion='gini',\n",
              "                       max_depth=None, max_features=None, max_leaf_nodes=None,\n",
              "                       min_impurity_decrease=0.0, min_impurity_split=None,\n",
              "                       min_samples_leaf=1, min_samples_split=2,\n",
              "                       min_weight_fraction_leaf=0.0, presort='deprecated',\n",
              "                       random_state=1612, splitter='best')"
            ]
          },
          "metadata": {
            "tags": []
          },
          "execution_count": 588
        }
      ]
    },
    {
      "cell_type": "markdown",
      "metadata": {
        "id": "v0LNbuYdo3lv"
      },
      "source": [
        "#### Metric scores"
      ]
    },
    {
      "cell_type": "code",
      "metadata": {
        "id": "QhTxzniGa3d_",
        "colab": {
          "base_uri": "https://localhost:8080/",
          "height": 50
        },
        "outputId": "976ba754-cd45-492f-df24-900986ded4bf"
      },
      "source": [
        "print('Accuracy on Train Set: ', decision_tree.score(X_train_scale, y_train))\n",
        "print('Accuracy on Test Set: ', decision_tree.score(X_test_scale, y_test))"
      ],
      "execution_count": null,
      "outputs": [
        {
          "output_type": "stream",
          "text": [
            "Accuracy on Train Set:  1.0\n",
            "Accuracy on Test Set:  0.7186147186147186\n"
          ],
          "name": "stdout"
        }
      ]
    },
    {
      "cell_type": "markdown",
      "metadata": {
        "id": "2KggzdNSpFPT"
      },
      "source": [
        "#### Confusion Matrix"
      ]
    },
    {
      "cell_type": "code",
      "metadata": {
        "id": "v2oXrEjZbA8j",
        "colab": {
          "base_uri": "https://localhost:8080/",
          "height": 506
        },
        "outputId": "33ee2db1-45a2-421c-b635-7a2a8a9bbecd"
      },
      "source": [
        "from sklearn.metrics import confusion_matrix\n",
        "import seaborn as sns\n",
        "sns.set()\n",
        "y_pred = decision_tree.predict(X_test_scale)\n",
        "cm = confusion_matrix(y_test, y_pred)\n",
        "\n",
        "plt.figure(figsize=(8,8))\n",
        "sns.heatmap(cm, annot=True, \n",
        "            cmap='Blues', fmt='.1f')"
      ],
      "execution_count": null,
      "outputs": [
        {
          "output_type": "execute_result",
          "data": {
            "text/plain": [
              "<matplotlib.axes._subplots.AxesSubplot at 0x7f6172d30cc0>"
            ]
          },
          "metadata": {
            "tags": []
          },
          "execution_count": 590
        },
        {
          "output_type": "display_data",
          "data": {
            "image/png": "[encoded data removed]",
            "text/plain": [
              "<Figure size 576x576 with 2 Axes>"
            ]
          },
          "metadata": {
            "tags": []
          }
        }
      ]
    },
    {
      "cell_type": "markdown",
      "metadata": {
        "id": "Q4plUXDAeq1T"
      },
      "source": [
        "### Deep Neural Network"
      ]
    },
    {
      "cell_type": "markdown",
      "metadata": {
        "id": "ijSGib3CpYZZ"
      },
      "source": [
        "#### Check shape"
      ]
    },
    {
      "cell_type": "code",
      "metadata": {
        "id": "lHvi8AV5fODt",
        "colab": {
          "base_uri": "https://localhost:8080/",
          "height": 34
        },
        "outputId": "f0d4dc63-8a76-4cf5-c786-83ae9ef280ce"
      },
      "source": [
        "print(X_train.shape[1:])"
      ],
      "execution_count": null,
      "outputs": [
        {
          "output_type": "stream",
          "text": [
            "(8,)\n"
          ],
          "name": "stdout"
        }
      ]
    },
    {
      "cell_type": "code",
      "metadata": {
        "id": "3Fko3ieVf9t_",
        "colab": {
          "base_uri": "https://localhost:8080/",
          "height": 118
        },
        "outputId": "9ba8549b-cdcb-4f7a-f383-3110f2b3e14a"
      },
      "source": [
        "print('Shape of X_train:', X_train.shape)\n",
        "print('Shape of y_train:', y_train.shape)\n",
        "print('Shape of X_test:', X_test.shape)\n",
        "print('Shape of y_test:', y_test.shape)\n",
        "\n",
        "print('Shape of X_train_scale:', X_train_scale.shape)\n",
        "print('Shape of X_test_scale:', X_test_scale.shape)"
      ],
      "execution_count": null,
      "outputs": [
        {
          "output_type": "stream",
          "text": [
            "Shape of X_train: (537, 8)\n",
            "Shape of y_train: (537,)\n",
            "Shape of X_test: (231, 8)\n",
            "Shape of y_test: (231,)\n",
            "Shape of X_train_scale: (537, 8)\n",
            "Shape of X_test_scale: (231, 8)\n"
          ],
          "name": "stdout"
        }
      ]
    },
    {
      "cell_type": "code",
      "metadata": {
        "id": "4GtJv8WGiHyF",
        "colab": {
          "base_uri": "https://localhost:8080/",
          "height": 402
        },
        "outputId": "ce0efb72-3308-4fb1-84a7-1c20d95194fd"
      },
      "source": [
        "df"
      ],
      "execution_count": null,
      "outputs": [
        {
          "output_type": "execute_result",
          "data": {
            "text/html": [
              "<div>\n",
              "<style scoped>\n",
              "    .dataframe tbody tr th:only-of-type {\n",
              "        vertical-align: middle;\n",
              "    }\n",
              "\n",
              "    .dataframe tbody tr th {\n",
              "        vertical-align: top;\n",
              "    }\n",
              "\n",
              "    .dataframe thead th {\n",
              "        text-align: right;\n",
              "    }\n",
              "</style>\n",
              "<table border=\"1\" class=\"dataframe\">\n",
              "  <thead>\n",
              "    <tr style=\"text-align: right;\">\n",
              "      <th></th>\n",
              "      <th>Pregnancies</th>\n",
              "      <th>Glucose</th>\n",
              "      <th>BloodPressure</th>\n",
              "      <th>SkinThickness</th>\n",
              "      <th>Insulin</th>\n",
              "      <th>BMI</th>\n",
              "      <th>DiabetesPedigreeFunction</th>\n",
              "      <th>Age</th>\n",
              "    </tr>\n",
              "  </thead>\n",
              "  <tbody>\n",
              "    <tr>\n",
              "      <th>0</th>\n",
              "      <td>6</td>\n",
              "      <td>148</td>\n",
              "      <td>72</td>\n",
              "      <td>35</td>\n",
              "      <td>30.5</td>\n",
              "      <td>33.6</td>\n",
              "      <td>0.627</td>\n",
              "      <td>50</td>\n",
              "    </tr>\n",
              "    <tr>\n",
              "      <th>1</th>\n",
              "      <td>1</td>\n",
              "      <td>85</td>\n",
              "      <td>66</td>\n",
              "      <td>29</td>\n",
              "      <td>30.5</td>\n",
              "      <td>26.6</td>\n",
              "      <td>0.351</td>\n",
              "      <td>31</td>\n",
              "    </tr>\n",
              "    <tr>\n",
              "      <th>2</th>\n",
              "      <td>8</td>\n",
              "      <td>183</td>\n",
              "      <td>64</td>\n",
              "      <td>23</td>\n",
              "      <td>30.5</td>\n",
              "      <td>23.3</td>\n",
              "      <td>0.672</td>\n",
              "      <td>32</td>\n",
              "    </tr>\n",
              "    <tr>\n",
              "      <th>3</th>\n",
              "      <td>1</td>\n",
              "      <td>89</td>\n",
              "      <td>66</td>\n",
              "      <td>23</td>\n",
              "      <td>94.0</td>\n",
              "      <td>28.1</td>\n",
              "      <td>0.167</td>\n",
              "      <td>21</td>\n",
              "    </tr>\n",
              "    <tr>\n",
              "      <th>4</th>\n",
              "      <td>0</td>\n",
              "      <td>137</td>\n",
              "      <td>40</td>\n",
              "      <td>35</td>\n",
              "      <td>168.0</td>\n",
              "      <td>43.1</td>\n",
              "      <td>2.288</td>\n",
              "      <td>33</td>\n",
              "    </tr>\n",
              "    <tr>\n",
              "      <th>...</th>\n",
              "      <td>...</td>\n",
              "      <td>...</td>\n",
              "      <td>...</td>\n",
              "      <td>...</td>\n",
              "      <td>...</td>\n",
              "      <td>...</td>\n",
              "      <td>...</td>\n",
              "      <td>...</td>\n",
              "    </tr>\n",
              "    <tr>\n",
              "      <th>763</th>\n",
              "      <td>10</td>\n",
              "      <td>101</td>\n",
              "      <td>76</td>\n",
              "      <td>48</td>\n",
              "      <td>180.0</td>\n",
              "      <td>32.9</td>\n",
              "      <td>0.171</td>\n",
              "      <td>63</td>\n",
              "    </tr>\n",
              "    <tr>\n",
              "      <th>764</th>\n",
              "      <td>2</td>\n",
              "      <td>122</td>\n",
              "      <td>70</td>\n",
              "      <td>27</td>\n",
              "      <td>30.5</td>\n",
              "      <td>36.8</td>\n",
              "      <td>0.340</td>\n",
              "      <td>27</td>\n",
              "    </tr>\n",
              "    <tr>\n",
              "      <th>765</th>\n",
              "      <td>5</td>\n",
              "      <td>121</td>\n",
              "      <td>72</td>\n",
              "      <td>23</td>\n",
              "      <td>112.0</td>\n",
              "      <td>26.2</td>\n",
              "      <td>0.245</td>\n",
              "      <td>30</td>\n",
              "    </tr>\n",
              "    <tr>\n",
              "      <th>766</th>\n",
              "      <td>1</td>\n",
              "      <td>126</td>\n",
              "      <td>60</td>\n",
              "      <td>23</td>\n",
              "      <td>30.5</td>\n",
              "      <td>30.1</td>\n",
              "      <td>0.349</td>\n",
              "      <td>47</td>\n",
              "    </tr>\n",
              "    <tr>\n",
              "      <th>767</th>\n",
              "      <td>1</td>\n",
              "      <td>93</td>\n",
              "      <td>70</td>\n",
              "      <td>31</td>\n",
              "      <td>30.5</td>\n",
              "      <td>30.4</td>\n",
              "      <td>0.315</td>\n",
              "      <td>23</td>\n",
              "    </tr>\n",
              "  </tbody>\n",
              "</table>\n",
              "<p>768 rows × 8 columns</p>\n",
              "</div>"
            ],
            "text/plain": [
              "     Pregnancies  Glucose  BloodPressure  ...   BMI  DiabetesPedigreeFunction  Age\n",
              "0              6      148             72  ...  33.6                     0.627   50\n",
              "1              1       85             66  ...  26.6                     0.351   31\n",
              "2              8      183             64  ...  23.3                     0.672   32\n",
              "3              1       89             66  ...  28.1                     0.167   21\n",
              "4              0      137             40  ...  43.1                     2.288   33\n",
              "..           ...      ...            ...  ...   ...                       ...  ...\n",
              "763           10      101             76  ...  32.9                     0.171   63\n",
              "764            2      122             70  ...  36.8                     0.340   27\n",
              "765            5      121             72  ...  26.2                     0.245   30\n",
              "766            1      126             60  ...  30.1                     0.349   47\n",
              "767            1       93             70  ...  30.4                     0.315   23\n",
              "\n",
              "[768 rows x 8 columns]"
            ]
          },
          "metadata": {
            "tags": []
          },
          "execution_count": 593
        }
      ]
    },
    {
      "cell_type": "code",
      "metadata": {
        "id": "Ho3Uhkuyv9cL",
        "colab": {
          "base_uri": "https://localhost:8080/",
          "height": 252
        },
        "outputId": "ee3de8ea-b587-4097-bc0f-2fa4aec6d31d"
      },
      "source": [
        "print(X_train)"
      ],
      "execution_count": null,
      "outputs": [
        {
          "output_type": "stream",
          "text": [
            "     Pregnancies  Glucose  BloodPressure  ...   BMI  DiabetesPedigreeFunction  Age\n",
            "758            1      106             76  ...  37.5                     0.197   26\n",
            "140            3      128             78  ...  21.1                     0.268   55\n",
            "605            1      124             60  ...  35.8                     0.514   21\n",
            "372            0       84             64  ...  35.8                     0.545   21\n",
            "265            5       96             74  ...  33.6                     0.997   43\n",
            "..           ...      ...            ...  ...   ...                       ...  ...\n",
            "594            6      123             72  ...  33.6                     0.733   34\n",
            "429            1       95             82  ...  35.0                     0.233   43\n",
            "213            0      140             65  ...  42.6                     0.431   24\n",
            "345            8      126             88  ...  38.5                     0.349   49\n",
            "509            8      120             78  ...  25.0                     0.409   64\n",
            "\n",
            "[537 rows x 8 columns]\n"
          ],
          "name": "stdout"
        }
      ]
    },
    {
      "cell_type": "code",
      "metadata": {
        "id": "l22fIywqwAEs",
        "colab": {
          "base_uri": "https://localhost:8080/",
          "height": 235
        },
        "outputId": "9bc0bcd7-a1a0-4e69-8ab6-dfe61706f005"
      },
      "source": [
        "print(X_train_scale)"
      ],
      "execution_count": null,
      "outputs": [
        {
          "output_type": "stream",
          "text": [
            "[[-0.88675351 -0.5294551   0.28251054 ...  0.75842135 -0.80598117\n",
            "  -0.63479476]\n",
            " [-0.28702223  0.21973433  0.44995884 ... -1.6575756  -0.58664195\n",
            "   1.85153795]\n",
            " [-0.88675351  0.08351807 -1.05707586 ...  0.50798264  0.17332211\n",
            "  -1.06347282]\n",
            " ...\n",
            " [-1.18661914  0.62838311 -0.63845511 ...  1.50973748 -0.08308853\n",
            "  -0.80626599]\n",
            " [ 1.21230596  0.1516262   1.28720034 ...  0.90573824 -0.33640988\n",
            "   1.33712428]\n",
            " [ 1.21230596 -0.05269819  0.44995884 ... -1.08303974 -0.15105279\n",
            "   2.62315844]]\n"
          ],
          "name": "stdout"
        }
      ]
    },
    {
      "cell_type": "markdown",
      "metadata": {
        "id": "ZFloTZAupNP9"
      },
      "source": [
        "#### Import libraries"
      ]
    },
    {
      "cell_type": "code",
      "metadata": {
        "id": "oIbN48HrcwLc"
      },
      "source": [
        "from tensorflow.keras.models import Model, Sequential\n",
        "from tensorflow.keras.layers import Dense, Input, Activation, Dropout, Flatten\n",
        "from tensorflow.keras.regularizers import l2\n",
        "from tensorflow.keras.optimizers import Adam"
      ],
      "execution_count": null,
      "outputs": []
    },
    {
      "cell_type": "markdown",
      "metadata": {
        "id": "v1EeWhcNpP0Z"
      },
      "source": [
        "#### Compile the DNN model"
      ]
    },
    {
      "cell_type": "code",
      "metadata": {
        "id": "JXkvLQQSA9Q-",
        "colab": {
          "base_uri": "https://localhost:8080/",
          "height": 286
        },
        "outputId": "706937a8-d893-4014-cfce-20e0f2792411"
      },
      "source": [
        "loss = []\n",
        "acc = [] \n",
        "model = Sequential()\n",
        "model.add(Dense(64, activation='relu', name='hidden_layer_1', input_shape=X_train_scale.shape[1:]))\n",
        "model.add(Dense(64, activation='relu', name='hidden_layer_2', input_shape=X_train_scale.shape[1:]))\n",
        "model.add(Dense(64, activation='relu', name='hidden_layer_3', input_shape=X_train_scale.shape[1:]))\n",
        "model.add(Dense(1, activation='sigmoid', name='output_layer'))\n",
        "\n",
        "model.compile(loss='binary_crossentropy', optimizer='adam', metrics='accuracy')\n",
        "\n",
        "model.summary()"
      ],
      "execution_count": null,
      "outputs": [
        {
          "output_type": "stream",
          "text": [
            "Model: \"sequential_10\"\n",
            "_________________________________________________________________\n",
            "Layer (type)                 Output Shape              Param #   \n",
            "=================================================================\n",
            "hidden_layer_1 (Dense)       (None, 64)                576       \n",
            "_________________________________________________________________\n",
            "hidden_layer_2 (Dense)       (None, 64)                4160      \n",
            "_________________________________________________________________\n",
            "hidden_layer_3 (Dense)       (None, 64)                4160      \n",
            "_________________________________________________________________\n",
            "output_layer (Dense)         (None, 1)                 65        \n",
            "=================================================================\n",
            "Total params: 8,961\n",
            "Trainable params: 8,961\n",
            "Non-trainable params: 0\n",
            "_________________________________________________________________\n"
          ],
          "name": "stdout"
        }
      ]
    },
    {
      "cell_type": "markdown",
      "metadata": {
        "id": "FMaaeBZFwosF"
      },
      "source": [
        "#### Train model"
      ]
    },
    {
      "cell_type": "code",
      "metadata": {
        "id": "C-fHl8Q4A6AG"
      },
      "source": [
        "def train_model(model, epochs):\n",
        "  history = model.fit(X_train_scale, y_train, epochs=epochs, verbose=0)\n",
        "  print(model.evaluate(X_train_scale, y_train))  \n",
        "  loss.extend(history.history['loss'])\n",
        "  acc.extend(history.history['accuracy'])"
      ],
      "execution_count": null,
      "outputs": []
    },
    {
      "cell_type": "markdown",
      "metadata": {
        "id": "_EkzzzX9pe-Y"
      },
      "source": [
        "#### Draw charts of Accuracy and Loss versus Epochs"
      ]
    },
    {
      "cell_type": "code",
      "metadata": {
        "id": "Znt_qiNOBR1R"
      },
      "source": [
        "def draw_chart(loss, acc):\n",
        "  epochs = range(len(loss))\n",
        "\n",
        "  plt.figure(figsize=(20,10))\n",
        "  plt.subplot(1,2,1)\n",
        "  plt.plot(epochs, loss, c='red')\n",
        "  plt.title('Loss versus Epochs')\n",
        "\n",
        "  plt.subplot(1,2,2)\n",
        "  plt.plot(epochs, acc)\n",
        "  plt.title('Accuracy versus Epochs')"
      ],
      "execution_count": null,
      "outputs": []
    },
    {
      "cell_type": "code",
      "metadata": {
        "id": "UDfZhzyaBT9m",
        "colab": {
          "base_uri": "https://localhost:8080/",
          "height": 622
        },
        "outputId": "4720c5a4-fea0-40aa-e5a2-ae34a51e88ee"
      },
      "source": [
        "train_model(model, epochs=150)\n",
        "draw_chart(loss, acc)"
      ],
      "execution_count": null,
      "outputs": [
        {
          "output_type": "stream",
          "text": [
            "17/17 [==============================] - 0s 1ms/step - loss: 0.0013 - accuracy: 1.0000\n",
            "[0.0012705079279839993, 1.0]\n"
          ],
          "name": "stdout"
        },
        {
          "output_type": "display_data",
          "data": {
            "image/png": "[encoded data removed]",
            "text/plain": [
              "<Figure size 1440x720 with 2 Axes>"
            ]
          },
          "metadata": {
            "tags": []
          }
        }
      ]
    },
    {
      "cell_type": "markdown",
      "metadata": {
        "id": "aZ8Nxqm8plXA"
      },
      "source": [
        "#### Evaluate the model"
      ]
    },
    {
      "cell_type": "code",
      "metadata": {
        "id": "oaJhhxQkBYFV",
        "colab": {
          "base_uri": "https://localhost:8080/",
          "height": 67
        },
        "outputId": "44badba1-9e43-402a-b8be-fc83f82db74b"
      },
      "source": [
        "model.evaluate(X_train_scale, y_train)\n",
        "model.evaluate(X_test_scale, y_test)"
      ],
      "execution_count": null,
      "outputs": [
        {
          "output_type": "stream",
          "text": [
            "17/17 [==============================] - 0s 1ms/step - loss: 0.0013 - accuracy: 1.0000\n",
            "8/8 [==============================] - 0s 2ms/step - loss: 2.1307 - accuracy: 0.7056\n"
          ],
          "name": "stdout"
        },
        {
          "output_type": "execute_result",
          "data": {
            "text/plain": [
              "[2.130713939666748, 0.7056276798248291]"
            ]
          },
          "metadata": {
            "tags": []
          },
          "execution_count": 603
        }
      ]
    },
    {
      "cell_type": "markdown",
      "metadata": {
        "id": "iJNQoB73polV"
      },
      "source": [
        "#### Confusion Matrix"
      ]
    },
    {
      "cell_type": "code",
      "metadata": {
        "id": "OqEpdTHFErWL",
        "colab": {
          "base_uri": "https://localhost:8080/",
          "height": 502
        },
        "outputId": "9feedd83-d90d-4c6b-b8cf-d4f54daeecdf"
      },
      "source": [
        "from sklearn.metrics import confusion_matrix\n",
        "import seaborn as sns\n",
        "sns.set()\n",
        "\n",
        "y_pred = model.predict(X_test_scale)\n",
        "y_pred = np.where(y_pred >= 0.5, 1, 0) # sigmoid returns range 0-1 so use np.where to return 0 & 1\n",
        "#y_pred = np.argmax(y_pred, axis=1) # np.argmax used for multi-class classification\n",
        "cm = confusion_matrix(y_test, y_pred)\n",
        "plt.figure(figsize=(8,8))\n",
        "sns.heatmap(cm, annot=True, fmt='.1f', cmap='Blues')"
      ],
      "execution_count": null,
      "outputs": [
        {
          "output_type": "execute_result",
          "data": {
            "text/plain": [
              "<matplotlib.axes._subplots.AxesSubplot at 0x7f6174b4cd30>"
            ]
          },
          "metadata": {
            "tags": []
          },
          "execution_count": 604
        },
        {
          "output_type": "display_data",
          "data": {
            "image/png": "[encoded data removed]",
            "text/plain": [
              "<Figure size 576x576 with 2 Axes>"
            ]
          },
          "metadata": {
            "tags": []
          }
        }
      ]
    },
    {
      "cell_type": "markdown",
      "metadata": {
        "id": "PdedMPOYprt-"
      },
      "source": [
        "### Confusion Matrices for 3 Models: Support Vector Machine, DecisionTree, Deep Neural Network"
      ]
    },
    {
      "cell_type": "code",
      "metadata": {
        "id": "51MWXYnIhp4Z",
        "colab": {
          "base_uri": "https://localhost:8080/",
          "height": 414
        },
        "outputId": "d75df6e2-0b3f-4649-a5a5-5ea23a87b3da"
      },
      "source": [
        "from sklearn.metrics import confusion_matrix\n",
        "import seaborn as sns\n",
        "sns.set()\n",
        "plt.figure(figsize=(25,8))\n",
        "\n",
        "y_pred_svc = svc.predict(X_test_scale)\n",
        "cm_svc = confusion_matrix(y_test, y_pred_svc)\n",
        "plt.subplot(1,3,1)\n",
        "sns.heatmap(cm_svc, annot=True, \n",
        "            cmap='Blues', fmt='.1f')\n",
        "plt.title('Confusion Matrix for SVC')\n",
        "\n",
        "y_pred_decisiontree = decision_tree.predict(X_test_scale)\n",
        "cm_decisiontree = confusion_matrix(y_test, y_pred_decisiontree)\n",
        "plt.subplot(1,3,2)\n",
        "sns.heatmap(cm_decisiontree, annot=True, \n",
        "            cmap='Blues', fmt='.1f')\n",
        "plt.title('Confusion Matrix for Decision Tree')\n",
        "\n",
        "y_pred_dnn = model.predict(X_test_scale)\n",
        "y_pred_dnn = np.where(y_pred_dnn >= 0.5, 1, 0) \n",
        "cm_dnn = confusion_matrix(y_test, y_pred_dnn)\n",
        "plt.subplot(1,3,3)\n",
        "sns.heatmap(cm_dnn, annot=True, fmt='.1f', cmap='Blues')\n",
        "plt.title('Confusion Matrix for DNN')"
      ],
      "execution_count": null,
      "outputs": [
        {
          "output_type": "execute_result",
          "data": {
            "text/plain": [
              "Text(0.5, 1.0, 'Confusion Matrix for DNN')"
            ]
          },
          "metadata": {
            "tags": []
          },
          "execution_count": 605
        },
        {
          "output_type": "display_data",
          "data": {
            "image/png": "[encoded data removed]",
            "text/plain": [
              "<Figure size 1800x576 with 6 Axes>"
            ]
          },
          "metadata": {
            "tags": []
          }
        }
      ]
    },
    {
      "cell_type": "markdown",
      "metadata": {
        "id": "Y4e7FKeIp1ro"
      },
      "source": [
        "## Conclusion"
      ]
    },
    {
      "cell_type": "markdown",
      "metadata": {
        "id": "KLJ0KZzojIFd"
      },
      "source": [
        "According to the Accuracies on the Train Set, SVC model gains the highest score among 3 models (SVC, DecisionTree, DNN) at 0.7792; 0.7186; 0.7056 respectively. So the confusion matrix of SVC model has a better evaluation then the other 2. True Positives (TP): SVC model correctly predicts that patients do have diabetes with 132 patients, the highest of all 3 models."
      ]
    },
    {
      "cell_type": "code",
      "metadata": {
        "id": "1abxXPEIhxpC"
      },
      "source": [
        ""
      ],
      "execution_count": null,
      "outputs": []
    }
  ]
}